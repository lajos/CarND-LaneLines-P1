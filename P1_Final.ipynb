{
 "cells": [
  {
   "cell_type": "code",
   "execution_count": 16,
   "metadata": {
    "collapsed": false,
    "deletable": true,
    "editable": true
   },
   "outputs": [],
   "source": [
    "#importing some useful packages\n",
    "import matplotlib.pyplot as plt\n",
    "import matplotlib.image as mpimg\n",
    "import numpy as np\n",
    "import cv2\n",
    "import math\n",
    "%matplotlib inline\n",
    "np.set_printoptions(precision =4, suppress=True)"
   ]
  },
  {
   "cell_type": "code",
   "execution_count": 17,
   "metadata": {
    "collapsed": true,
    "deletable": true,
    "editable": true
   },
   "outputs": [],
   "source": [
    "import PIL.Image\n",
    "from io import StringIO\n",
    "from io import BytesIO\n",
    "import IPython.display\n",
    "\n",
    "def showArray(a, fmt='png'):\n",
    "    \"\"\"Display an array image RAW without any resizing.\"\"\"\n",
    "    if a.ndim==2:\n",
    "        a=np.uint8(a)\n",
    "    elif a.ndim==3 and a.shape[2]==3:\n",
    "        pass\n",
    "    else:\n",
    "        raise Exception('only 2d and 3d arrays with 3 colors supported')\n",
    "    f = BytesIO()\n",
    "    PIL.Image.fromarray(a).save(f, fmt)\n",
    "    IPython.display.display(IPython.display.Image(data=f.getvalue()))"
   ]
  },
  {
   "cell_type": "code",
   "execution_count": 18,
   "metadata": {
    "collapsed": true,
    "deletable": true,
    "editable": true
   },
   "outputs": [],
   "source": [
    "USE_BLUE_CHANNEL = False"
   ]
  },
  {
   "cell_type": "code",
   "execution_count": 19,
   "metadata": {
    "collapsed": false,
    "deletable": true,
    "editable": true
   },
   "outputs": [],
   "source": [
    "def grayscale(img):\n",
    "    \"\"\"Applies the Grayscale transform\"\"\"\n",
    "    global USE_BLUE_CHANNEL\n",
    "    if USE_BLUE_CHANNEL:\n",
    "        r,g,b = cv2.split(img)\n",
    "        return b\n",
    "    return cv2.cvtColor(img, cv2.COLOR_RGB2GRAY)\n",
    "    # Or use BGR2GRAY if you read an image with cv2.imread()\n",
    "    # return cv2.cvtColor(img, cv2.COLOR_BGR2GRAY)\n",
    "    \n",
    "def canny(img, low_threshold, high_threshold):\n",
    "    \"\"\"Applies the Canny transform\"\"\"\n",
    "    return cv2.Canny(img, low_threshold, high_threshold)\n",
    "\n",
    "def gaussian_blur(img, kernel_size):\n",
    "    \"\"\"Applies a Gaussian Noise kernel\"\"\"\n",
    "    return cv2.GaussianBlur(img, (kernel_size, kernel_size), 0)\n",
    "\n",
    "def region_of_interest(img, vertices):\n",
    "    \"\"\"Applies a polygon image mask defined by vertices image mask.\"\"\"\n",
    "    #defining a blank mask to start with\n",
    "    mask = np.zeros_like(img)   \n",
    "    \n",
    "    #defining a 3 channel or 1 channel color to fill the mask with depending on the input image\n",
    "    if len(img.shape) > 2:\n",
    "        channel_count = img.shape[2]  # i.e. 3 or 4 depending on your image\n",
    "        ignore_mask_color = (255,) * channel_count\n",
    "    else:\n",
    "        ignore_mask_color = 255\n",
    "        \n",
    "    #filling pixels inside the polygon defined by \"vertices\" with the fill color    \n",
    "    cv2.fillPoly(mask, vertices, ignore_mask_color)\n",
    "    \n",
    "    #returning the image only where mask pixels are nonzero\n",
    "    masked_image = cv2.bitwise_and(img, mask)\n",
    "    return masked_image\n",
    "\n",
    "\n",
    "def draw_lines(img, lines, thickness=2, color=[255, 0, 0]):\n",
    "    for line in lines:\n",
    "        for x1,y1,x2,y2 in line:\n",
    "            cv2.line(img, (x1, y1), (x2, y2), color, thickness)\n",
    "\n",
    "def hough_lines(img, rho, theta, threshold, min_line_len, max_line_gap):\n",
    "    \"\"\"Detect Hough lines\"\"\"\n",
    "    lines = cv2.HoughLinesP(img, rho, theta, threshold, np.array([]), minLineLength=min_line_len, maxLineGap=max_line_gap)\n",
    "    return lines\n",
    "\n",
    "\n",
    "def weighted_img(initial_img, x, img, y, z):\n",
    "    \"\"\"initial_img * z + img * y + z\"\"\"\n",
    "    return cv2.addWeighted(initial_img, x, img, y, z)"
   ]
  },
  {
   "cell_type": "code",
   "execution_count": 20,
   "metadata": {
    "collapsed": false,
    "deletable": true,
    "editable": true,
    "scrolled": false
   },
   "outputs": [],
   "source": [
    "\n",
    "def mb2Hessian(m,b):\n",
    "    '''returns rho and theta (from y=mx+b)'''\n",
    "    D = np.sqrt(m**2 + 1)\n",
    "    p =  math.fabs(b)/D\n",
    "    theta = math.atan2(-1,m)\n",
    "    return np.array([p,theta])\n",
    "\n",
    "def linesPoints2MB(lines):\n",
    "    '''fit y=mx+b line over two points, return (m,b)'''\n",
    "    linesPoints = np.reshape(lines,(-1,2,2),'F')\n",
    "\n",
    "    linesMB = np.zeros(int(linesPoints.size/2)).reshape(-1,2)    \n",
    "    for i in range(0,linesPoints.shape[0]):\n",
    "        x,y = linesPoints[i]\n",
    "        mb = np.polyfit(x,y,1)\n",
    "        linesMB[i] = mb\n",
    "        \n",
    "    return(linesMB)\n",
    "\n",
    "def linesMBtoPolar(linesMB):\n",
    "    '''convert y=mx+b line to polar form'''\n",
    "    linesPolar = np.zeros(linesMB.size).reshape(-1,2)\n",
    "    for i in range(0,linesMB.shape[0]):\n",
    "        m,b = linesMB[i]\n",
    "        polar = mb2Hessian(m,b)\n",
    "        linesPolar[i] = polar\n",
    "    return(linesPolar)\n",
    "\n",
    "def indexFromValue(m, mRange, mSamples):\n",
    "    '''convert value m to sample index in -mRange...mRange over mSample number of samples'''\n",
    "    return (1+0.5*m)/mRange*mSamples\n",
    "\n",
    "def valueFromIndex(i, mRange, mSamples):\n",
    "    '''convert sample index to value in -mRange...mRange over mSample number of samples'''\n",
    "    return 2*(i*mRange/mSamples-1)\n",
    "\n",
    "def smoothLinesMB(linesMB):\n",
    "    '''sort lines into left and right group based on slope, remove lines that are too far from median'''\n",
    "    mRange = 2\n",
    "    mSamples = 200\n",
    "    mVariance = 0.15\n",
    "    mAccumulator = np.zeros((mSamples), dtype=np.uint64)\n",
    "    \n",
    "    for i in range(linesMB.shape[0]):\n",
    "        oneLineMB = linesMB[i]\n",
    "        m,b = oneLineMB\n",
    "        mIndex = int(indexFromValue(m, mRange, mSamples))\n",
    "        if mIndex<0 or mIndex>=mSamples:\n",
    "            continue\n",
    "        mAccumulator[mIndex] +=1\n",
    "\n",
    "# for testing only        \n",
    "#     xp = np.linspace(0, mSamples, 1000)\n",
    "#     _=plt.plot(\n",
    "#         mAccumulator\n",
    "#         #linesMB.reshape(-1,2)\n",
    "#         #x,y,'.',\n",
    "#         #xp, p(xp), '-'\n",
    "#     )\n",
    "#     #plt.ylim(0,540)\n",
    "#     plt.show()\n",
    "    \n",
    "    iMax1=0\n",
    "    max1=0\n",
    "    for i in range(0,int(mSamples/2)):\n",
    "        if (mAccumulator[i]>max1):\n",
    "            max1=mAccumulator[i]\n",
    "            iMax1=i\n",
    "            \n",
    "    iMax2=0\n",
    "    max2=0\n",
    "    for i in range(int(mSamples/2), mSamples):\n",
    "        if (mAccumulator[i]>max2):\n",
    "            max2=mAccumulator[i]\n",
    "            iMax2=i\n",
    "            \n",
    "    max1 = valueFromIndex(iMax1, mRange, mSamples)\n",
    "    max2 = valueFromIndex(iMax2, mRange, mSamples)\n",
    "    \n",
    "    lines1 = []\n",
    "    lines2 = []\n",
    "    \n",
    "    for m,b in linesMB:\n",
    "        if np.abs(m-max1)<mVariance:\n",
    "            lines1.append([m,b])\n",
    "        if np.abs(m-max2)<mVariance:\n",
    "            lines2.append([m,b])\n",
    "            \n",
    "    linesMB1 = np.array(lines1)\n",
    "    linesMB2 = np.array(lines2)\n",
    "    \n",
    "    return linesMB1, linesMB2\n",
    "\n",
    "\n",
    "def xForY(y, m, b):\n",
    "    '''calculate x from y value of y=mx+b polynomial'''\n",
    "    return int((y-b)/m)\n",
    "\n",
    "sLineMBAcc1 = []\n",
    "sLineMBAcc2 = []\n",
    "sLineDiff = []\n",
    "\n",
    "def resetSLineMBAcc():\n",
    "    '''reset time smoothing accumulators'''\n",
    "    global sLineMBAcc1\n",
    "    global sLineMBAcc2\n",
    "    global sLineDiff\n",
    "    sLineMBAcc1 = np.zeros(2)\n",
    "    sLineMBAcc2 = np.zeros(2)\n",
    "    sLineDiff = []\n",
    "    \n",
    "\n",
    "'''default factor for smoothing lines over time'''\n",
    "smoothing = 0.85\n",
    "\n",
    "def addSLineMBAcc(sLineMB1, sLineMB2):\n",
    "    '''smooth lines over time, ignore data too far from accumulator state'''\n",
    "    global sLineMBAcc1\n",
    "    global sLineMBAcc2\n",
    "    global sLineDiff\n",
    "    \n",
    "    mVariance = 0.1\n",
    "\n",
    "    if sLineMBAcc1[0]==0:\n",
    "        sLineMBAcc1 = sLineMB1\n",
    "    if sLineMBAcc2[0]==0:\n",
    "        sLineMBAcc2 = sLineMB2\n",
    "    if np.abs(sLineMB1[0])<0.01 or np.abs(sLineMB2[0])<0.01 or np.abs(sLineMB1[0])>2 or np.abs(sLineMB2[0])>2:\n",
    "        return\n",
    "    if np.abs(sLineMB1[0]-sLineMBAcc1[0])>mVariance:\n",
    "        return\n",
    "    if np.abs(sLineMB2[0]-sLineMBAcc2[0])>mVariance:\n",
    "        return\n",
    "    sLineDiff.append([np.abs(sLineMB1[0]-sLineMBAcc1[0]), np.abs(sLineMB2[0]-sLineMBAcc2[0])])\n",
    "    global smoothing\n",
    "    sLineMBAcc1 = smoothing*sLineMBAcc1 + (1.0-smoothing)*sLineMB1\n",
    "    sLineMBAcc2 = smoothing*sLineMBAcc2 + (1.0-smoothing)*sLineMB2\n",
    "\n",
    "def detectLaneLines(img):\n",
    "    '''detect lane lines pipeline, return calculated images in dict'''\n",
    "    imgGray = grayscale(img)\n",
    "    imgBlurred = gaussian_blur(imgGray, 5)\n",
    "    imgEdges = canny(imgBlurred, 40, 150)\n",
    "\n",
    "    global x1, x2, x3, x4\n",
    "    global y14, y23\n",
    "\n",
    "    vertices = np.array([[(x1, y14), (x2, y23), (x3, y23), (x4, y14)]], dtype=np.int32)\n",
    "    imgMasked = region_of_interest(imgEdges, vertices)\n",
    "    \n",
    "    rho = 4                       # distance resolution in pixels of the Hough grid\n",
    "    theta_deg = 180\n",
    "    theta = np.pi/theta_deg       # angular resolution in radians of the Hough grid\n",
    "    threshold = 32                # minimum number of votes (intersections in Hough grid cell)\n",
    "    min_line_len = 15          # minimum number of pixels making up a line\n",
    "    max_line_gap = 7             # maximum gap in pixels between connectable line segments\n",
    "    \n",
    "    lines = hough_lines(imgMasked, rho, theta, threshold, min_line_len, max_line_gap)\n",
    "        \n",
    "    linesMB = linesPoints2MB(lines)\n",
    "\n",
    "    linesMB1, linesMB2 = smoothLinesMB(linesMB)\n",
    "    \n",
    "    if not linesMB1.size:\n",
    "        linesMB1=np.zeros([1,2])\n",
    "    if not linesMB2.size:\n",
    "        linesMB2=np.zeros([1,2])\n",
    "        \n",
    "    sLineMB1=(np.average(linesMB1, axis=0))\n",
    "    sLineMB2=(np.average(linesMB2, axis=0))\n",
    "    \n",
    "    addSLineMBAcc(sLineMB1, sLineMB2)\n",
    "    \n",
    "    global sLineMBAcc1\n",
    "    global sLineMBAcc2\n",
    "    \n",
    "    smoothLines = np.array([[[xForY(y14,sLineMBAcc1[0],sLineMBAcc1[1]),y14,xForY(y23,sLineMBAcc1[0],sLineMBAcc1[1]),y23]],\n",
    "                                [[xForY(y14,sLineMBAcc2[0],sLineMBAcc2[1]),y14,xForY(y23,sLineMBAcc2[0],sLineMBAcc2[1]),y23]]])\n",
    "    \n",
    "    imgSmoothLines = np.zeros((img.shape[0], img.shape[1], 3), dtype=np.uint8)\n",
    "    draw_lines(imgSmoothLines, smoothLines, 3)    \n",
    "\n",
    "    imgSmoothLinesComp = weighted_img(img, 0.7, imgSmoothLines, 1, 0)\n",
    "    \n",
    "    imgHoughLines = np.zeros((img.shape[0], img.shape[1], 3), dtype=np.uint8)\n",
    "    draw_lines(imgHoughLines, lines, 2)\n",
    "    \n",
    "    imgHoughLinesComp = weighted_img(img, 0.7, imgHoughLines, 1, 0)\n",
    "    \n",
    "    return { 'gray' : imgGray,\n",
    "             'blurred' : imgBlurred,\n",
    "             'edges' : imgEdges,\n",
    "             'masked': imgMasked,\n",
    "             'smoothLines': imgSmoothLines,\n",
    "             'smoothLinesComp': imgSmoothLinesComp,            \n",
    "             'houghLines': imgHoughLines,\n",
    "             'houghLinesComp': imgHoughLinesComp }\n",
    "\n",
    "# for testing only\n",
    "# img = mpimg.imread('./test_images/solidYellowCurve.jpg')\n",
    "# _=detectLaneLines(img)"
   ]
  },
  {
   "cell_type": "code",
   "execution_count": 21,
   "metadata": {
    "collapsed": true,
    "deletable": true,
    "editable": true
   },
   "outputs": [],
   "source": [
    "# mask vertices for test images and videos\n",
    "\n",
    "x1=80\n",
    "x2=420\n",
    "x3=555\n",
    "x4=960\n",
    "y14=540\n",
    "y23=330\n"
   ]
  },
  {
   "cell_type": "code",
   "execution_count": 22,
   "metadata": {
    "collapsed": false,
    "deletable": true,
    "editable": true,
    "scrolled": false
   },
   "outputs": [
    {
     "name": "stdout",
     "output_type": "stream",
     "text": [
      "test_images/solidWhiteCurve.jpg\n",
      "test_images_output/smoothLines_solidWhiteCurve.jpg\n",
      "test_images_output/edges_solidWhiteCurve.jpg\n",
      "test_images_output/blurred_solidWhiteCurve.jpg\n",
      "test_images_output/masked_solidWhiteCurve.jpg\n",
      "test_images_output/gray_solidWhiteCurve.jpg\n",
      "test_images_output/smoothLinesComp_solidWhiteCurve.jpg\n",
      "test_images_output/houghLines_solidWhiteCurve.jpg\n",
      "test_images_output/houghLinesComp_solidWhiteCurve.jpg\n",
      "test_images/solidWhiteRight.jpg\n",
      "test_images_output/smoothLines_solidWhiteRight.jpg\n",
      "test_images_output/edges_solidWhiteRight.jpg\n",
      "test_images_output/blurred_solidWhiteRight.jpg\n",
      "test_images_output/masked_solidWhiteRight.jpg\n",
      "test_images_output/gray_solidWhiteRight.jpg\n",
      "test_images_output/smoothLinesComp_solidWhiteRight.jpg\n",
      "test_images_output/houghLines_solidWhiteRight.jpg\n",
      "test_images_output/houghLinesComp_solidWhiteRight.jpg\n",
      "test_images/solidYellowCurve.jpg\n",
      "test_images_output/smoothLines_solidYellowCurve.jpg\n",
      "test_images_output/edges_solidYellowCurve.jpg\n",
      "test_images_output/blurred_solidYellowCurve.jpg\n",
      "test_images_output/masked_solidYellowCurve.jpg\n",
      "test_images_output/gray_solidYellowCurve.jpg\n",
      "test_images_output/smoothLinesComp_solidYellowCurve.jpg\n",
      "test_images_output/houghLines_solidYellowCurve.jpg\n",
      "test_images_output/houghLinesComp_solidYellowCurve.jpg\n",
      "test_images/solidYellowCurve2.jpg\n",
      "test_images_output/smoothLines_solidYellowCurve2.jpg\n",
      "test_images_output/edges_solidYellowCurve2.jpg\n",
      "test_images_output/blurred_solidYellowCurve2.jpg\n",
      "test_images_output/masked_solidYellowCurve2.jpg\n",
      "test_images_output/gray_solidYellowCurve2.jpg\n",
      "test_images_output/smoothLinesComp_solidYellowCurve2.jpg\n",
      "test_images_output/houghLines_solidYellowCurve2.jpg\n",
      "test_images_output/houghLinesComp_solidYellowCurve2.jpg\n",
      "test_images/solidYellowLeft.jpg\n",
      "test_images_output/smoothLines_solidYellowLeft.jpg\n",
      "test_images_output/edges_solidYellowLeft.jpg\n",
      "test_images_output/blurred_solidYellowLeft.jpg\n",
      "test_images_output/masked_solidYellowLeft.jpg\n",
      "test_images_output/gray_solidYellowLeft.jpg\n",
      "test_images_output/smoothLinesComp_solidYellowLeft.jpg\n",
      "test_images_output/houghLines_solidYellowLeft.jpg\n",
      "test_images_output/houghLinesComp_solidYellowLeft.jpg\n",
      "test_images/whiteCarLaneSwitch.jpg\n",
      "test_images_output/smoothLines_whiteCarLaneSwitch.jpg\n",
      "test_images_output/edges_whiteCarLaneSwitch.jpg\n",
      "test_images_output/blurred_whiteCarLaneSwitch.jpg\n",
      "test_images_output/masked_whiteCarLaneSwitch.jpg\n",
      "test_images_output/gray_whiteCarLaneSwitch.jpg\n",
      "test_images_output/smoothLinesComp_whiteCarLaneSwitch.jpg\n",
      "test_images_output/houghLines_whiteCarLaneSwitch.jpg\n",
      "test_images_output/houghLinesComp_whiteCarLaneSwitch.jpg\n"
     ]
    }
   ],
   "source": [
    "import os\n",
    "\n",
    "inputFolder = 'test_images/'\n",
    "outputFolder = 'test_images_output/'\n",
    "\n",
    "# process test images\n",
    "\n",
    "for fileName in os.listdir(inputFolder):\n",
    "    fileNameSplit = os.path.splitext(fileName)\n",
    "    \n",
    "    inFileName = inputFolder+fileName\n",
    "    print(inFileName)\n",
    "    img = mpimg.imread(inFileName)\n",
    "    \n",
    "    resetSLineMBAcc()\n",
    "    outImages = detectLaneLines(img)\n",
    "    \n",
    "    for imgType in outImages:\n",
    "        outFileName = '{0}{2}_{1}.jpg'.format(outputFolder, fileNameSplit[0],imgType)\n",
    "        print(outFileName)\n",
    "        cmap=None\n",
    "        if not outImages[imgType].shape==3:\n",
    "            cmap='gray'\n",
    "        mpimg.imsave(outFileName, \n",
    "                     outImages[imgType],\n",
    "                     cmap=cmap)\n",
    "        \n",
    "    "
   ]
  },
  {
   "cell_type": "code",
   "execution_count": 23,
   "metadata": {
    "collapsed": false,
    "deletable": true,
    "editable": true,
    "scrolled": false
   },
   "outputs": [
    {
     "name": "stdout",
     "output_type": "stream",
     "text": [
      "[MoviePy] >>>> Building video test_videos_output/solidWhiteRight.mp4\n",
      "[MoviePy] Writing video test_videos_output/solidWhiteRight.mp4\n"
     ]
    },
    {
     "name": "stderr",
     "output_type": "stream",
     "text": [
      "100%|████████████████████████████████████████████████████████████████████████████████████████████████▌| 221/222 [00:03<00:00, 61.65it/s]\n"
     ]
    },
    {
     "name": "stdout",
     "output_type": "stream",
     "text": [
      "[MoviePy] Done.\n",
      "[MoviePy] >>>> Video ready: test_videos_output/solidWhiteRight.mp4 \n",
      "\n",
      "Wall time: 3.98 s\n"
     ]
    }
   ],
   "source": [
    "from moviepy.editor import VideoFileClip\n",
    "from IPython.display import HTML\n",
    "\n",
    "def process_image(image):\n",
    "    outImages = detectLaneLines(image)\n",
    "    return outImages['smoothLinesComp']\n",
    "\n",
    "resetSLineMBAcc()\n",
    "USE_BLUE_CHANNEL = False\n",
    "smoothing=0.85\n",
    "white_output = 'test_videos_output/solidWhiteRight.mp4'\n",
    "clip1 = VideoFileClip(\"test_videos/solidWhiteRight.mp4\")\n",
    "white_clip = clip1.fl_image(process_image)\n",
    "%time white_clip.write_videofile(white_output, audio=False)\n"
   ]
  },
  {
   "cell_type": "code",
   "execution_count": 24,
   "metadata": {
    "collapsed": false,
    "deletable": true,
    "editable": true
   },
   "outputs": [
    {
     "name": "stdout",
     "output_type": "stream",
     "text": [
      "[MoviePy] >>>> Building video test_videos_output/solidYellowLeft.mp4\n",
      "[MoviePy] Writing video test_videos_output/solidYellowLeft.mp4\n"
     ]
    },
    {
     "name": "stderr",
     "output_type": "stream",
     "text": [
      "100%|████████████████████████████████████████████████████████████████████████████████████████████████▊| 681/682 [00:10<00:00, 61.72it/s]\n"
     ]
    },
    {
     "name": "stdout",
     "output_type": "stream",
     "text": [
      "[MoviePy] Done.\n",
      "[MoviePy] >>>> Video ready: test_videos_output/solidYellowLeft.mp4 \n",
      "\n",
      "Wall time: 11.3 s\n"
     ]
    }
   ],
   "source": [
    "resetSLineMBAcc()\n",
    "USE_BLUE_CHANNEL = True\n",
    "smoothing=0.85\n",
    "yellow_output = 'test_videos_output/solidYellowLeft.mp4'\n",
    "clip2 = VideoFileClip('test_videos/solidYellowLeft.mp4')\n",
    "yellow_clip = clip2.fl_image(process_image)\n",
    "%time yellow_clip.write_videofile(yellow_output, audio=False)"
   ]
  },
  {
   "cell_type": "code",
   "execution_count": 25,
   "metadata": {
    "collapsed": true,
    "deletable": true,
    "editable": true
   },
   "outputs": [],
   "source": [
    "# mask vertices for challenge video\n",
    "\n",
    "x1=180\n",
    "x2=530\n",
    "x3=770\n",
    "x4=1100\n",
    "y14=660\n",
    "y23=470\n"
   ]
  },
  {
   "cell_type": "code",
   "execution_count": 26,
   "metadata": {
    "collapsed": false,
    "deletable": true,
    "editable": true,
    "scrolled": false
   },
   "outputs": [
    {
     "name": "stdout",
     "output_type": "stream",
     "text": [
      "[MoviePy] >>>> Building video test_videos_output/challenge.mp4\n",
      "[MoviePy] Writing video test_videos_output/challenge.mp4\n"
     ]
    },
    {
     "name": "stderr",
     "output_type": "stream",
     "text": [
      "100%|█████████████████████████████████████████████████████████████████████████████████████████████████| 251/251 [00:07<00:00, 32.91it/s]\n"
     ]
    },
    {
     "name": "stdout",
     "output_type": "stream",
     "text": [
      "[MoviePy] Done.\n",
      "[MoviePy] >>>> Video ready: test_videos_output/challenge.mp4 \n",
      "\n",
      "Wall time: 8.31 s\n"
     ]
    }
   ],
   "source": [
    "resetSLineMBAcc()\n",
    "USE_BLUE_CHANNEL = True\n",
    "smoothing=0.7\n",
    "challenge_output = 'test_videos_output/challenge.mp4'\n",
    "clip2 = VideoFileClip('test_videos/challenge.mp4')\n",
    "challenge_clip = clip2.fl_image(process_image)\n",
    "%time challenge_clip.write_videofile(challenge_output, audio=False)"
   ]
  },
  {
   "cell_type": "code",
   "execution_count": null,
   "metadata": {
    "collapsed": true,
    "deletable": true,
    "editable": true
   },
   "outputs": [],
   "source": []
  }
 ],
 "metadata": {
  "kernelspec": {
   "display_name": "Python 3",
   "language": "python",
   "name": "python3"
  },
  "language_info": {
   "codemirror_mode": {
    "name": "ipython",
    "version": 3
   },
   "file_extension": ".py",
   "mimetype": "text/x-python",
   "name": "python",
   "nbconvert_exporter": "python",
   "pygments_lexer": "ipython3",
   "version": "3.5.2"
  },
  "widgets": {
   "state": {},
   "version": "1.1.2"
  }
 },
 "nbformat": 4,
 "nbformat_minor": 2
}
